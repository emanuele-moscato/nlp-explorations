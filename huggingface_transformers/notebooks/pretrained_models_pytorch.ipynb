{
 "cells": [
  {
   "cell_type": "markdown",
   "id": "cccc7add-39ac-4666-9e74-212a3ca1083a",
   "metadata": {},
   "source": [
    "# Hugging Face pretrained models for PyTorch"
   ]
  },
  {
   "cell_type": "markdown",
   "id": "d153ff33-0f47-4763-9cff-23bd2cedbc59",
   "metadata": {},
   "source": [
    "__Objective:__ load and test a Huggingface Transformers pretrained model built with PyTorch."
   ]
  },
  {
   "cell_type": "code",
   "execution_count": null,
   "id": "249c277c-5b57-4a0b-95d9-3ed4191d3998",
   "metadata": {},
   "outputs": [],
   "source": [
    "import os\n",
    "from  transformers import AutoModel, AutoTokenizer"
   ]
  },
  {
   "cell_type": "markdown",
   "id": "a251d798-e6e3-4637-8fbb-0b07778b72b7",
   "metadata": {},
   "source": [
    "Load data."
   ]
  },
  {
   "cell_type": "code",
   "execution_count": null,
   "id": "d2f360fc-8015-4301-a156-3a53b782a2cd",
   "metadata": {},
   "outputs": [],
   "source": [
    "DATA_DIR = '../../data/'"
   ]
  },
  {
   "cell_type": "code",
   "execution_count": null,
   "id": "98a30af2-f5fb-4861-aac1-fb9d945bb271",
   "metadata": {},
   "outputs": [],
   "source": [
    "with open(os.path.join(DATA_DIR, 'mcsweeneys_vans.txt'), 'r') as f:\n",
    "    documents = f.read().split('\\n\\n')\n",
    "\n",
    "len(documents)"
   ]
  },
  {
   "cell_type": "markdown",
   "id": "67716691-5552-44d2-9c33-09420d01b8bd",
   "metadata": {},
   "source": [
    "Load model and associated tokenizer. The `AutoModel` implicitly refers to PyTorch models (as opposed to the `TFAutoModel` which is for TensorFlow ones)."
   ]
  },
  {
   "cell_type": "code",
   "execution_count": null,
   "id": "b05d3a0e-73ea-4473-8a49-db24c30db0c1",
   "metadata": {},
   "outputs": [],
   "source": [
    "model_ckpt = 'distilbert-base-uncased-finetuned-sst-2-english'\n",
    "\n",
    "tokenizer = AutoTokenizer.from_pretrained(model_ckpt)\n",
    "model = AutoModel.from_pretrained(model_ckpt)\n",
    "\n",
    "model"
   ]
  },
  {
   "cell_type": "markdown",
   "id": "6c3bb773-ac40-444d-a740-781953af3071",
   "metadata": {},
   "source": [
    "Tokenize text."
   ]
  },
  {
   "cell_type": "code",
   "execution_count": null,
   "id": "1503d157-1620-4f0e-869f-871fc510be21",
   "metadata": {},
   "outputs": [],
   "source": [
    "tokenizer_output = tokenizer(documents, padding=True, return_tensors='pt')\n",
    "\n",
    "tokenized_text = tokenizer_output['input_ids']\n",
    "attention_masks = tokenizer_output['attention_mask']"
   ]
  },
  {
   "cell_type": "markdown",
   "id": "88ee03c5-2aeb-4138-97fc-21f44eb23b92",
   "metadata": {},
   "source": [
    "Apply the model on the tokenized text."
   ]
  },
  {
   "cell_type": "code",
   "execution_count": null,
   "id": "60b8583a-8dad-4bbf-bd5b-c9c8d59fdb3c",
   "metadata": {},
   "outputs": [],
   "source": [
    "output = model(\n",
    "    **tokenizer_output\n",
    ")"
   ]
  },
  {
   "cell_type": "code",
   "execution_count": null,
   "id": "c8df65b5-d277-43bc-9308-1fcf4db0f9fc",
   "metadata": {},
   "outputs": [],
   "source": [
    "output['last_hidden_state']"
   ]
  }
 ],
 "metadata": {
  "kernelspec": {
   "display_name": "Python 3 (ipykernel)",
   "language": "python",
   "name": "python3"
  },
  "language_info": {
   "codemirror_mode": {
    "name": "ipython",
    "version": 3
   },
   "file_extension": ".py",
   "mimetype": "text/x-python",
   "name": "python",
   "nbconvert_exporter": "python",
   "pygments_lexer": "ipython3",
   "version": "3.10.13"
  }
 },
 "nbformat": 4,
 "nbformat_minor": 5
}
