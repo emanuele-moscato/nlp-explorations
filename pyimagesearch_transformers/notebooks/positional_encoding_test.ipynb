{
 "cells": [
  {
   "cell_type": "markdown",
   "id": "ac85d5ed-690b-45fd-a9bd-93fb00be6468",
   "metadata": {},
   "source": [
    "# Positional encoding"
   ]
  },
  {
   "cell_type": "markdown",
   "id": "9e01d208-5348-46ef-9c1d-29f5848a5d96",
   "metadata": {},
   "source": [
    "Test out some alternatives to achieve positional encoding, as per [this](https://pyimagesearch.com/2022/09/26/a-deep-dive-into-transformers-with-tensorflow-and-keras-part-2/) blog post."
   ]
  },
  {
   "cell_type": "code",
   "execution_count": 15,
   "id": "ae15986e-15a8-4a6f-97e2-20f939a54748",
   "metadata": {},
   "outputs": [],
   "source": [
    "import numpy as np\n",
    "import matplotlib.pyplot as plt\n",
    "import seaborn as sns\n",
    "\n",
    "sns.set_theme()"
   ]
  },
  {
   "cell_type": "markdown",
   "id": "ec1c08a4-e229-4a2d-8a18-53960f971f47",
   "metadata": {},
   "source": [
    "## Binary encoding"
   ]
  },
  {
   "cell_type": "code",
   "execution_count": 25,
   "id": "e0fea012-9a56-4005-9344-d80cbe52054d",
   "metadata": {},
   "outputs": [],
   "source": [
    "n = 100\n",
    "dims = 100\n",
    "\n",
    "bin_box = np.zeros(shape=(n, dims))\n",
    "\n",
    "for i in range(n):\n",
    "    # Get the binary representation of the index (skipping\n",
    "    # the first two entries which indicate the binary encoding).\n",
    "    # The output is a string.\n",
    "    binary_repr = bin(i)[2:]\n",
    "\n",
    "    # Append the number of 0s to the string so that the result\n",
    "    # has length dims (0-padding on the right).\n",
    "    b = binary_repr.ljust(dims, '0')\n",
    "    \n",
    "    # Populate the i-th row of the representation matrix\n",
    "    # with the 0-padded binary representation of i, with each\n",
    "    # digit converted to an integer.\n",
    "    bin_box[i] = [int(x) for x in b]"
   ]
  },
  {
   "cell_type": "code",
   "execution_count": 26,
   "id": "29e6fdd1-3d34-4612-bb9d-82fc77fa74e1",
   "metadata": {},
   "outputs": [
    {
     "data": {
      "text/plain": [
       "Text(0, 0.5, 'Numbers')"
      ]
     },
     "execution_count": 26,
     "metadata": {},
     "output_type": "execute_result"
    },
    {
     "data": {
      "image/png": "[encoded data removed]",
      "text/plain": [
       "<Figure size 1008x432 with 1 Axes>"
      ]
     },
     "metadata": {},
     "output_type": "display_data"
    }
   ],
   "source": [
    "# Show the binary representation matrix as an image (array\n",
    "# of pixels).\n",
    "fig = plt.figure(figsize=(14, 6))\n",
    "\n",
    "plt.imshow(bin_box)\n",
    "\n",
    "plt.xlabel('Dimensions')\n",
    "plt.ylabel('Numbers')"
   ]
  },
  {
   "cell_type": "markdown",
   "id": "8b22811f-6f16-4e3d-ada0-0491b3670a33",
   "metadata": {},
   "source": [
    "The above procedure achieves positional encoding as every value of the index (position in the sequence) is mapped to a binary sequence (0-padded sequence of 0s and 1s based on the binary encoding of the index value).\n",
    "\n",
    "**Note:** this follows the blog post, but the encoding is not unique..."
   ]
  },
  {
   "cell_type": "markdown",
   "id": "8df79df7-4eee-4576-a7d1-401f0ad34b70",
   "metadata": {},
   "source": [
    "## \"Trigonometric\" (or \"sinusoidal\") encoding"
   ]
  },
  {
   "cell_type": "code",
   "execution_count": 54,
   "id": "4cfc3edb-3872-4239-9238-f3ae1703ee04",
   "metadata": {},
   "outputs": [],
   "source": [
    "def get_angle(p, i, d_model):\n",
    "    \"\"\"\n",
    "    Computes the angle that enters the sin or cos\n",
    "    function for component i of the encoding of\n",
    "    position p.\n",
    "    \"\"\"\n",
    "    angle = p / (1e3 ** (2. * i / d_model))\n",
    "    \n",
    "    return angle\n",
    "\n",
    "\n",
    "def get_positional_encoding(p, d_model):\n",
    "    \"\"\"\n",
    "    Computes the positional encoding vector for position\n",
    "    p and d_model model dimension.\n",
    "    \"\"\"\n",
    "    indices = np.arange(d_model)\n",
    "    \n",
    "    angles = get_angle(p, indices, d_model)\n",
    "    \n",
    "    pos_encoding = np.zeros(d_model)\n",
    "    \n",
    "    pos_encoding[::2] = np.sin(angles[::2])\n",
    "    pos_encoding[1::2] = np.cos(angles[1::2])\n",
    "    \n",
    "    return pos_encoding"
   ]
  },
  {
   "cell_type": "code",
   "execution_count": 57,
   "id": "06adbef8-2b56-488c-b028-c013873adb7b",
   "metadata": {},
   "outputs": [
    {
     "data": {
      "text/plain": [
       "array([[ 0.00000000e+00,  1.00000000e+00,  0.00000000e+00, ...,\n",
       "         1.00000000e+00,  0.00000000e+00,  1.00000000e+00],\n",
       "       [ 8.41470985e-01,  6.44089748e-01,  6.87889724e-01, ...,\n",
       "         1.00000000e+00,  1.31825674e-06,  1.00000000e+00],\n",
       "       [ 9.09297427e-01, -1.70296792e-01,  9.98561657e-01, ...,\n",
       "         1.00000000e+00,  2.63651348e-06,  1.00000000e+00],\n",
       "       ...,\n",
       "       [ 3.79607739e-01, -9.42910161e-01, -9.70039598e-01, ...,\n",
       "         9.99999989e-01,  1.27870903e-04,  9.99999994e-01],\n",
       "       [-5.73381872e-01, -8.62083190e-01, -8.71190152e-01, ...,\n",
       "         9.99999989e-01,  1.29189160e-04,  9.99999994e-01],\n",
       "       [-9.99206834e-01, -1.67607729e-01, -2.94606539e-01, ...,\n",
       "         9.99999989e-01,  1.30507417e-04,  9.99999994e-01]])"
      ]
     },
     "execution_count": 57,
     "metadata": {},
     "output_type": "execute_result"
    }
   ],
   "source": [
    "d_model = 100\n",
    "\n",
    "sequence_length = 100\n",
    "\n",
    "pos_encoding = np.array([\n",
    "    get_positional_encoding(position, d_model)\n",
    "    for position in range(sequence_length)\n",
    "])\n",
    "\n",
    "pos_encoding"
   ]
  },
  {
   "cell_type": "code",
   "execution_count": 58,
   "id": "d786da16-e56d-4a56-af90-09c2d9ce31a0",
   "metadata": {},
   "outputs": [
    {
     "data": {
      "text/plain": [
       "Text(0, 0.5, 'Numbers')"
      ]
     },
     "execution_count": 58,
     "metadata": {},
     "output_type": "execute_result"
    },
    {
     "data": {
      "image/png": "[encoded data removed]",
      "text/plain": [
       "<Figure size 1008x432 with 1 Axes>"
      ]
     },
     "metadata": {},
     "output_type": "display_data"
    }
   ],
   "source": [
    "# Show the representation matrix as an image (array\n",
    "# of pixels).\n",
    "fig = plt.figure(figsize=(14, 6))\n",
    "\n",
    "plt.imshow(pos_encoding)\n",
    "\n",
    "plt.xlabel('Dimensions')\n",
    "plt.ylabel('Numbers')"
   ]
  }
 ],
 "metadata": {
  "kernelspec": {
   "display_name": "Python 3 (ipykernel)",
   "language": "python",
   "name": "python3"
  },
  "language_info": {
   "codemirror_mode": {
    "name": "ipython",
    "version": 3
   },
   "file_extension": ".py",
   "mimetype": "text/x-python",
   "name": "python",
   "nbconvert_exporter": "python",
   "pygments_lexer": "ipython3",
   "version": "3.10.12"
  }
 },
 "nbformat": 4,
 "nbformat_minor": 5
}
