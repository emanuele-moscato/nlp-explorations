{
 "cells": [
  {
   "cell_type": "markdown",
   "id": "b1e996fd-4ba0-42b1-8f11-1a6793211f98",
   "metadata": {},
   "source": [
    "# Test functions"
   ]
  },
  {
   "cell_type": "code",
   "execution_count": null,
   "id": "c53c77a9-8d0d-4a19-93c7-3916ac21d566",
   "metadata": {},
   "outputs": [],
   "source": [
    "import sys\n",
    "\n",
    "sys.path.append('../pyimagesearch/')\n",
    "\n",
    "%load_ext autoreload\n",
    "%autoreload 2"
   ]
  },
  {
   "cell_type": "markdown",
   "id": "71de7448-f1f6-47b3-9051-e8797a021f7c",
   "metadata": {},
   "source": [
    "## Load dataset"
   ]
  },
  {
   "cell_type": "code",
   "execution_count": null,
   "id": "63d58a53-6efd-4838-ae06-9f3c5e226f0f",
   "metadata": {},
   "outputs": [],
   "source": [
    "from dataset import get_imdb_dataset\n",
    "import tensorflow as tf\n",
    "import config"
   ]
  },
  {
   "cell_type": "code",
   "execution_count": null,
   "id": "252dbcd4-412d-4541-a370-3ece6ba17ef6",
   "metadata": {},
   "outputs": [],
   "source": [
    "trainDs, valDs = get_imdb_dataset(\n",
    "    folderName='../data/',\n",
    "    batchSize=config.BATCH_SIZE,\n",
    "    bufferSize=config.BUFFER_SIZE,\n",
    "    autotune=tf.data.AUTOTUNE,\n",
    "    test=False\n",
    ")"
   ]
  },
  {
   "cell_type": "code",
   "execution_count": null,
   "id": "13294b0d-3b72-4c75-baa7-944a938ba376",
   "metadata": {},
   "outputs": [],
   "source": [
    "trainDs, valDs"
   ]
  },
  {
   "cell_type": "markdown",
   "id": "96c034b2-5dc1-4e75-82d1-44bbd0c7e266",
   "metadata": {},
   "source": [
    "Retrieve the next batch of samples. Each batch is a tuple with\n",
    "- `batch[0]`: tensor of samples.\n",
    "- `batch[1]`: tensor of target values.\n",
    "\n",
    "The shape of the tensors is `batch_size`, as specified to the `get_imdb_dataset` function."
   ]
  },
  {
   "cell_type": "code",
   "execution_count": null,
   "id": "c09ee80f-8927-449c-b1f6-665b300b2264",
   "metadata": {},
   "outputs": [],
   "source": [
    "batch = next(iter(trainDs))"
   ]
  },
  {
   "cell_type": "code",
   "execution_count": null,
   "id": "24b6296c-906c-4edc-a84c-a65091409b51",
   "metadata": {},
   "outputs": [],
   "source": [
    "batch[0][0].numpy()"
   ]
  },
  {
   "cell_type": "markdown",
   "id": "e095473d-1835-421b-8fdc-db2391ef8620",
   "metadata": {},
   "source": [
    "## Test standardization function"
   ]
  },
  {
   "cell_type": "code",
   "execution_count": null,
   "id": "3f5b9584-ac07-415e-b8c3-48b821b4aeb9",
   "metadata": {},
   "outputs": [],
   "source": [
    "from standardization import custom_standardization"
   ]
  },
  {
   "cell_type": "code",
   "execution_count": null,
   "id": "632fd253-4a25-4ec6-8788-9b6f3d937aaf",
   "metadata": {},
   "outputs": [],
   "source": [
    "standardized_text_batch = custom_standardization(batch[0])\n",
    "\n",
    "standardized_text_batch[0]"
   ]
  },
  {
   "cell_type": "markdown",
   "id": "697bc05f-27ce-4509-aa0f-8b45c21d44d7",
   "metadata": {},
   "source": [
    "## Vectorization"
   ]
  },
  {
   "cell_type": "markdown",
   "id": "57b5c172-467d-4958-95a6-560f41e6d582",
   "metadata": {},
   "source": [
    "The `TextVectorization` layer maps the words in the sequences to sequences of integers (with a 1-to-1 correspondence between the integer values and words in the vocabulary)."
   ]
  },
  {
   "cell_type": "code",
   "execution_count": null,
   "id": "7ba58ca8-d2a9-4b03-b68e-b470509e0fe9",
   "metadata": {},
   "outputs": [],
   "source": [
    "from tensorflow.keras import layers"
   ]
  },
  {
   "cell_type": "code",
   "execution_count": null,
   "id": "4cd33c74-7e59-49f3-b279-d0212ba79c57",
   "metadata": {},
   "outputs": [],
   "source": [
    "vectorizeLayer = layers.TextVectorization(\n",
    "    max_tokens=config.VOCAB_ZISE,\n",
    "    output_mode='int',\n",
    "    output_sequence_length=config.MAX_SEQUENCE_LENGTH,\n",
    "    standardize=custom_standardization,\n",
    "    pad_to_max_tokens=True\n",
    ")"
   ]
  },
  {
   "cell_type": "code",
   "execution_count": null,
   "id": "f9815e59-7530-424f-bad6-589c696dd79c",
   "metadata": {},
   "outputs": [],
   "source": [
    "vectorizeLayer.adapt(trainDs.map(lambda text, label: text))"
   ]
  },
  {
   "cell_type": "code",
   "execution_count": null,
   "id": "b3965f48-6871-495f-97e4-444901efd420",
   "metadata": {},
   "outputs": [],
   "source": [
    "vectorized_batch = vectorizeLayer(batch[0])\n",
    "\n",
    "vectorized_batch"
   ]
  },
  {
   "cell_type": "markdown",
   "id": "098283ac-1564-46d7-b8ad-a2971012c099",
   "metadata": {},
   "source": [
    "## Test Keras' `SimpleRNN` layer"
   ]
  },
  {
   "cell_type": "code",
   "execution_count": null,
   "id": "76a42383-94bb-40b7-8b52-992a0c552638",
   "metadata": {},
   "outputs": [],
   "source": [
    "from tensorflow.keras.layers import Embedding, SimpleRNN"
   ]
  },
  {
   "cell_type": "code",
   "execution_count": null,
   "id": "0a46abc9-6d79-48e1-aa1e-0506105aa556",
   "metadata": {},
   "outputs": [],
   "source": [
    "embedding_layer = Embedding(\n",
    "    input_dim=config.VOCAB_ZISE,\n",
    "    output_dim=128,\n",
    "    mask_zero=False\n",
    ")\n",
    "\n",
    "# Shape: (n_batches, max_seq_len, embedding_dim).\n",
    "batch_embedding = embedding_layer(vectorized_batch)\n",
    "\n",
    "batch_embedding"
   ]
  },
  {
   "cell_type": "code",
   "execution_count": null,
   "id": "0801cdcb-2306-4d19-9cc7-4fe933242a9f",
   "metadata": {},
   "outputs": [],
   "source": [
    "rnn_layer = SimpleRNN(\n",
    "    units=32,\n",
    "    return_sequences=True\n",
    ")\n",
    "\n",
    "# Output shape:\n",
    "#   - If `return_sequences=False`: (batch_size, units) (i.e. one\n",
    "#     output value per sample).\n",
    "#   - If `return_sequences=True`: (batch_size, max_seq_len, units)\n",
    "#     (i.e. one full sequence with an element per token for each\n",
    "#     sample in the batch).\n",
    "rnn_layer(batch_embedding)"
   ]
  }
 ],
 "metadata": {
  "kernelspec": {
   "display_name": "Python 3 (ipykernel)",
   "language": "python",
   "name": "python3"
  },
  "language_info": {
   "codemirror_mode": {
    "name": "ipython",
    "version": 3
   },
   "file_extension": ".py",
   "mimetype": "text/x-python",
   "name": "python",
   "nbconvert_exporter": "python",
   "pygments_lexer": "ipython3",
   "version": "3.10.12"
  }
 },
 "nbformat": 4,
 "nbformat_minor": 5
}
